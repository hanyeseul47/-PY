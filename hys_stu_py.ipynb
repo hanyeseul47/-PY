{
  "nbformat": 4,
  "nbformat_minor": 0,
  "metadata": {
    "colab": {
      "provenance": [],
      "authorship_tag": "ABX9TyNJFWEAJSAaHM87MSwx8rmy",
      "include_colab_link": true
    },
    "kernelspec": {
      "name": "python3",
      "display_name": "Python 3"
    },
    "language_info": {
      "name": "python"
    }
  },
  "cells": [
    {
      "cell_type": "markdown",
      "metadata": {
        "id": "view-in-github",
        "colab_type": "text"
      },
      "source": [
        "<a href=\"https://colab.research.google.com/github/hanyeseul47/-PY/blob/main/hys_stu_py.ipynb\" target=\"_parent\"><img src=\"https://colab.research.google.com/assets/colab-badge.svg\" alt=\"Open In Colab\"/></a>"
      ]
    },
    {
      "cell_type": "code",
      "execution_count": null,
      "metadata": {
        "id": "UkQZ5mkjJ090"
      },
      "outputs": [],
      "source": [
        "total = 0  # 변수 total을 0으로 초기화합니다.\n",
        "counter = 1  # 변수 counter를 1로 초기화합니다.\n",
        "\n",
        "while counter <= 10:  # counter가 10보다 작거나 같은 동안 반복합니다.\n",
        "    grade = int(input(\"성적을 입력하시오.:\"))  # 사용자로부터 성적을 입력받아 정수로 변환한 후 grade 변수에 저장합니다.\n",
        "    total = grade + total  # 입력받은 성적을 total에 더합니다.\n",
        "    counter = counter + 1  # counter 값을 1 증가시킵니다.\n",
        "\n",
        "average = total / 10  # total을 10으로 나누어 평균을 계산합니다.\n",
        "print(average)  # 평균값을 출력합니다."
      ]
    },
    {
      "cell_type": "markdown",
      "source": [
        "주어진 코드는 5명의 성적을 입력받아 평균을 계산하는 프로그램입니다. 반복문과 조건문을 사용하여 구현되었습니다.\n",
        "\n",
        "먼저, total 변수를 0으로 초기화하고, counter 변수를 1로 초기화합니다. 이후 while 반복문을 사용하여 counter가 10보다 작거나 같은 동안 반복합니다.\n",
        "\n",
        "안쪽의 반복문에서는 input() 함수를 사용하여 사용자로부터 성적을 입력받습니다. 입력받은 성적은 int() 함수를 사용하여 정수로 변환한 후 grade 변수에 저장합니다. 그리고 입력받은 성적을 total 변수에 더합니다.\n",
        "\n",
        "반복문이 한 번 실행될 때마다 counter 변수를 1씩 증가시킵니다.\n",
        "\n",
        "반복문이 종료되면 total 변수를 10으로 나누어 평균을 계산하고, average 변수에 저장합니다. 마지막으로 print() 함수를 사용하여 평균값을 출력합니다."
      ],
      "metadata": {
        "id": "v7ElsvQRKCZw"
      }
    }
  ]
}