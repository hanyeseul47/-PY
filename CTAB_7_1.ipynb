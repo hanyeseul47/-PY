{
  "nbformat": 4,
  "nbformat_minor": 0,
  "metadata": {
    "colab": {
      "provenance": [],
      "authorship_tag": "ABX9TyMDxMYI6hmSJhJYM5aJRytB",
      "include_colab_link": true
    },
    "kernelspec": {
      "name": "python3",
      "display_name": "Python 3"
    },
    "language_info": {
      "name": "python"
    }
  },
  "cells": [
    {
      "cell_type": "markdown",
      "metadata": {
        "id": "view-in-github",
        "colab_type": "text"
      },
      "source": [
        "<a href=\"https://colab.research.google.com/github/hanyeseul47/-PY/blob/main/CTAB_7_1.ipynb\" target=\"_parent\"><img src=\"https://colab.research.google.com/assets/colab-badge.svg\" alt=\"Open In Colab\"/></a>"
      ]
    },
    {
      "cell_type": "markdown",
      "source": [
        "1. 일한 시간과 시급을 계산하여 출력하는 코드\n",
        " -  일한시간(hours_worked)\n",
        " - 일한날짜(day_worked)\n",
        " - 시급(pay_rate)\n",
        " - 월급(monthly_pay)\n",
        "\n",
        "\n",
        "\n",
        "\n"
      ],
      "metadata": {
        "id": "6m-6WK1kowXu"
      }
    },
    {
      "cell_type": "code",
      "source": [
        "hours_worked = int(input(\"일한 시간을 입력하시오.: \"))  # 사용자로부터 일한 시간을 입력받아 hours_worked 변수에 저장합니다.\n",
        "day_worked = int(input(\"일한 날짜를 입력하시오.: \"))  # 사용자로부터 일한 날짜를 입력받아 day_worked 변수에 저장합니다.\n",
        "pay_rate = int(input(\"시급을 입력하시오.(23년 시급 9620): \"))  # 사용자로부터 시급을 입력받아 pay_rate 변수에 저장합니다.\n",
        "\n",
        "day_month = hours_worked * day_worked  # 월의 총 근무일수를 계산하여 day_month 변수에 저장합니다.\n",
        "monthly_pay = hours_worked * pay_rate * day_worked  # 월급여를 계산하여 monthly_pay 변수에 저장합니다.\n",
        "\n",
        "print(f'일한 시간은 {hours_worked}시간 이며, 시급은 {pay_rate}원 이고, 월급여는 {monthly_pay}원 입니다.')  # 일한 시간, 시급, 월급여를 출력합니다."
      ],
      "metadata": {
        "colab": {
          "base_uri": "https://localhost:8080/"
        },
        "id": "pu_HPqWHpH7_",
        "outputId": "9a2099d9-8ce1-4e47-98d9-f3a3672d428c"
      },
      "execution_count": null,
      "outputs": [
        {
          "output_type": "stream",
          "name": "stdout",
          "text": [
            "일한 시간을 입력하시오.: 10\n",
            "일한 날짜를 입력하시오.: 25\n",
            "시급을 입력하시오.(23년 시급 9620): 9620\n",
            "일한 시간은 10시간 이며, 시급은 9620원 이고, 월급여는 2405000원 입니다.\n"
          ]
        }
      ]
    },
    {
      "cell_type": "markdown",
      "source": [
        "주어진 코드에서는 입력한 일한 시간, 일한 날짜, 시급을 바탕으로 월급여를 계산하고 출력합니다. 입력한 일한 시간과 일한 날짜를 곱하여 월의 총 근무일수를 계산하고, 이를 시급과 곱하여 월급여를 계산합니다. 그리고 일한 시간, 시급, 월급여를 출력합니다.\n",
        "\n",
        "따라서 위 코드를 실행하면 사용자로부터 입력받은 일한 시간, 일한 날짜, 시급에 따라 월급여가 계산되고, 해당 정보가 출력됩니다."
      ],
      "metadata": {
        "id": "_30kUUIRR6LW"
      }
    },
    {
      "cell_type": "markdown",
      "source": [
        "2. 환전하는 코드를 작성\n",
        "- 변수 won, usb, exchange\n",
        "- 계산, won * usb"
      ],
      "metadata": {
        "id": "OsaUEeEVurbl"
      }
    },
    {
      "cell_type": "code",
      "source": [
        "usb = int(input(\"환전할 금액을 입력.:\"))  # 사용자로부터 환전할 금액을 입력받아 usb 변수에 저장합니다.\n",
        "won = int(input(\"달러의 환율금액 입력(231031: 1372원)\"))  # 사용자로부터 달러의 환율을 입력받아 won 변수에 저장합니다.\n",
        "\n",
        "exchange = won * usb  # 입력한 환전할 금액과 달러의 환율을 곱하여 원화로 환전한 금액을 계산하여 exchange 변수에 저장합니다.\n",
        "\n",
        "print(f'환전하고 싶은 {usb}달러는 환율 {won}으로 계산해서, {exchange}원입니다.')  # 환전할 달러와 환율, 원화로 환전한 금액을 출력합니다."
      ],
      "metadata": {
        "colab": {
          "base_uri": "https://localhost:8080/"
        },
        "id": "ZhQgvMkivGbI",
        "outputId": "d9485eb5-29e9-4440-a2e2-4470a1369bf6"
      },
      "execution_count": null,
      "outputs": [
        {
          "output_type": "stream",
          "name": "stdout",
          "text": [
            "환전할 금액을 입력.:500\n",
            "달러의 환율금액 입력(231031: 1372원)1372\n",
            "환전하고 싶은 500달러는 환율 1372으로 계산해서, 686000원입니다.\n"
          ]
        }
      ]
    },
    {
      "cell_type": "markdown",
      "source": [
        "주어진 코드에서는 입력한 환전할 금액과 달러의 환율을 바탕으로 원화로 환전한 금액을 계산하고 출력합니다. 입력한 달러의 환율을 환전할 금액과 곱하여 원화로 환전한 금액을 계산하고, 이를 출력합니다.\n",
        "\n",
        "따라서 위 코드를 실행하면 사용자로부터 입력받은 환전할 금액과 달러의 환율에 따라 원화로 환전한 금액이 계산되고, 해당 정보가 출력됩니다."
      ],
      "metadata": {
        "id": "Ra68bBXkSFPd"
      }
    },
    {
      "cell_type": "markdown",
      "source": [
        "3. 화씨를 섭씨로 섭씨를 화씨로 변경하는 코드\n",
        "- 화씨를 화씨로 ℉ = ℃ * 1.8 + 32\n",
        "- 섭씨를 화씨로 ℃ = (℉ - 32) / 1.8\n",
        "- 변수 : 화씨 fahrenheit, 섭씨 celsius"
      ],
      "metadata": {
        "id": "U-TRR4WfyQGO"
      }
    },
    {
      "cell_type": "code",
      "source": [
        "fahrenheit = int(input(\"화씨를 입력하시오.:\"))  # 사용자로부터 화씨 온도를 입력받아 fahrenheit 변수에 저장합니다.\n",
        "\n",
        "celsius = (fahrenheit - 32) / 1.8  # 입력한 화씨 온도를 섭씨 온도로 변환하여 celsius 변수에 저장합니다.\n",
        "\n",
        "print(celsius)  # 섭씨 온도를 출력합니다."
      ],
      "metadata": {
        "colab": {
          "base_uri": "https://localhost:8080/"
        },
        "id": "vErakJhBzjYE",
        "outputId": "54222265-e92b-40e9-a3e8-4afb3a5e50e8"
      },
      "execution_count": null,
      "outputs": [
        {
          "output_type": "stream",
          "name": "stdout",
          "text": [
            "화씨를 입력하시오.:100\n",
            "37.77777777777778\n"
          ]
        }
      ]
    },
    {
      "cell_type": "markdown",
      "source": [
        "주어진 코드에서는 입력한 화씨 온도를 섭씨 온도로 변환하여 출력합니다. 입력한 화씨 온도에서 32를 빼고 1.8로 나누어 섭씨 온도로 변환합니다. 그리고 변환된 섭씨 온도를 출력합니다.\n",
        "\n",
        "따라서 위 코드를 실행하면 사용자로부터 입력받은 화씨 온도가 섭씨 온도로 변환되고, 변환된 섭씨 온도가 출력됩니다."
      ],
      "metadata": {
        "id": "eLDvzkZlSN-O"
      }
    },
    {
      "cell_type": "code",
      "source": [
        "celsius = float(input(\"섭씨를 입력하시오.:\"))  # 사용자로부터 섭씨 온도를 입력받아 celsius 변수에 저장합니다.\n",
        "\n",
        "fahrenheit = celsius * 1.8 + 32  # 입력한 섭씨 온도를 화씨 온도로 변환하여 fahrenheit 변수에 저장합니다.\n",
        "\n",
        "print(fahrenheit)  # 화씨 온도를 출력합니다."
      ],
      "metadata": {
        "colab": {
          "base_uri": "https://localhost:8080/"
        },
        "id": "1dcf6-Hd06xL",
        "outputId": "c88b6822-7f8b-474a-b3cc-6724d14cce68"
      },
      "execution_count": null,
      "outputs": [
        {
          "output_type": "stream",
          "name": "stdout",
          "text": [
            "섭씨를 입력하시오.:37.77777777777778\n",
            "100.0\n"
          ]
        }
      ]
    },
    {
      "cell_type": "markdown",
      "source": [
        "주어진 코드에서는 입력한 섭씨 온도를 화씨 온도로 변환하여 출력합니다. 입력한 섭씨 온도에 1.8을 곱하고 32를 더하여 화씨 온도로 변환합니다. 그리고 변환된 화씨 온도를 출력합니다.\n",
        "\n",
        "따라서 위 코드를 실행하면 사용자로부터 입력받은 섭씨 온도가 화씨 온도로 변환되고, 변환된 화씨 온도가 출력됩니다."
      ],
      "metadata": {
        "id": "5tMzGbMoSXjG"
      }
    }
  ]
}