{
  "nbformat": 4,
  "nbformat_minor": 0,
  "metadata": {
    "colab": {
      "provenance": [],
      "authorship_tag": "ABX9TyN1h2KfcHjz8tiU8eLRRRtx",
      "include_colab_link": true
    },
    "kernelspec": {
      "name": "python3",
      "display_name": "Python 3"
    },
    "language_info": {
      "name": "python"
    }
  },
  "cells": [
    {
      "cell_type": "markdown",
      "metadata": {
        "id": "view-in-github",
        "colab_type": "text"
      },
      "source": [
        "<a href=\"https://colab.research.google.com/github/hanyeseul47/-PY/blob/main/ct_2nd_code.ipynb\" target=\"_parent\"><img src=\"https://colab.research.google.com/assets/colab-badge.svg\" alt=\"Open In Colab\"/></a>"
      ]
    },
    {
      "cell_type": "markdown",
      "source": [
        "2. 사용자로부터 3개의 변수를 입력받아서 합을 구하고, 평균을 구하는 코드\n",
        " - 변수는: n1,n2,n3,total, average"
      ],
      "metadata": {
        "id": "nGVsI_uElfE9"
      }
    },
    {
      "cell_type": "code",
      "execution_count": null,
      "metadata": {
        "colab": {
          "base_uri": "https://localhost:8080/"
        },
        "id": "WgHEyjnflSMg",
        "outputId": "24b23599-f789-4642-ff7b-ada444646f80"
      },
      "outputs": [
        {
          "output_type": "stream",
          "name": "stdout",
          "text": [
            "n1의 값을 입력하시오.:50\n",
            "n2의 값을 입력하시오.:60\n",
            "n3의 값을 입력하시오.:70\n",
            "합계는 : 180\n",
            "평균은 : 60.0\n"
          ]
        }
      ],
      "source": [
        "n1 = int(input(\"n1의 값을 입력하시오.:\"))  # 사용자로부터 n1의 값을 입력받습니다.\n",
        "n2 = int(input(\"n2의 값을 입력하시오.:\"))  # 사용자로부터 n2의 값을 입력받습니다.\n",
        "n3 = int(input(\"n3의 값을 입력하시오.:\"))  # 사용자로부터 n3의 값을 입력받습니다.\n",
        "\n",
        "total = n1 + n2 + n3  # n1, n2, n3의 값을 더하여 총합을 계산합니다.\n",
        "print('합계는 :',total)  # 총합을 출력합니다.\n",
        "\n",
        "average = total / 3  # 총합을 3으로 나누어 평균을 계산합니다.\n",
        "print('평균은 :',average)  # 평균을 출력합니다."
      ]
    },
    {
      "cell_type": "markdown",
      "source": [
        "이 코드는 사용자로부터 n1, n2, n3의 값을 입력받아서 각각을 더한 후 총합과 평균을 계산하여 출력하는 간단한 코드입니다. input() 함수를 사용하여 사용자로부터 값을 입력받고, int() 함수를 사용하여 입력받은 값을 정수로 변환합니다.\n",
        "\n",
        "먼저, n1, n2, n3 변수에 각각의 값을 입력받습니다. 그리고 total 변수에 n1, n2, n3의 값을 더하여 총합을 계산합니다. 계산된 총합은 print() 함수를 사용하여 출력됩니다.\n",
        "\n",
        "다음으로, total을 3으로 나누어서 평균을 계산하고, average 변수에 저장합니다. 계산된 평균은 다시 print() 함수를 사용하여 출력됩니다."
      ],
      "metadata": {
        "id": "ELlqVeXcJGbG"
      }
    }
  ]
}