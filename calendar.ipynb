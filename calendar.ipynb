{
  "nbformat": 4,
  "nbformat_minor": 0,
  "metadata": {
    "colab": {
      "provenance": [],
      "authorship_tag": "ABX9TyN80NRB9fFycWJqnqfnYMPG",
      "include_colab_link": true
    },
    "kernelspec": {
      "name": "python3",
      "display_name": "Python 3"
    },
    "language_info": {
      "name": "python"
    }
  },
  "cells": [
    {
      "cell_type": "markdown",
      "metadata": {
        "id": "view-in-github",
        "colab_type": "text"
      },
      "source": [
        "<a href=\"https://colab.research.google.com/github/hanyeseul47/-PY/blob/main/calendar.ipynb\" target=\"_parent\"><img src=\"https://colab.research.google.com/assets/colab-badge.svg\" alt=\"Open In Colab\"/></a>"
      ]
    },
    {
      "cell_type": "code",
      "execution_count": null,
      "metadata": {
        "colab": {
          "base_uri": "https://localhost:8080/"
        },
        "id": "s2NPv5chY9Fp",
        "outputId": "fe77516f-0f1c-4615-8ef1-d521453fe83f"
      },
      "outputs": [
        {
          "output_type": "stream",
          "name": "stdout",
          "text": [
            "    October 2023\n",
            "Mo Tu We Th Fr Sa Su\n",
            "                   1\n",
            " 2  3  4  5  6  7  8\n",
            " 9 10 11 12 13 14 15\n",
            "16 17 18 19 20 21 22\n",
            "23 24 25 26 27 28 29\n",
            "30 31\n",
            "\n"
          ]
        }
      ],
      "source": [
        "import calendar\n",
        "\n",
        "# 연도와 월을 지정합니다.\n",
        "yy = 2023\n",
        "mm = 10\n",
        "\n",
        "# 지정한 연도와 월에 해당하는 달력을 출력합니다.\n",
        "print(calendar.month(yy, mm))"
      ]
    },
    {
      "cell_type": "markdown",
      "source": [
        "주어진 코드에 대해 설명드리겠습니다.\n",
        "\n",
        "먼저, calendar 모듈을 import하여 달력 관련 기능을 사용할 수 있도록 합니다.\n",
        "\n",
        "다음으로, yy 변수에는 연도를, mm 변수에는 월을 지정합니다. 예시로 주어진 코드에서는 yy 변수에 2023을, mm 변수에 10을 할당했습니다.\n",
        "\n",
        "calendar.month(yy, mm)은 지정한 연도와 월에 해당하는 달력을 반환하는 함수입니다. print(calendar.month(yy, mm))을 호출하여 2023년 10월의 달력을 출력합니다."
      ],
      "metadata": {
        "id": "aeGsvh3OLQWQ"
      }
    },
    {
      "cell_type": "markdown",
      "source": [
        "2023년 10월 19일 to do list\n",
        "- 09:10~11:00 컴퓨팅적 사고와 기초코딩\n",
        "- 11:10~12:00 아동건강교육\n",
        "- 12:00~01:00 점심식사\n",
        "- 01:00~18:00 시험공부"
      ],
      "metadata": {
        "id": "K4p2Iow8ZYRQ"
      }
    },
    {
      "cell_type": "code",
      "source": [
        "# 주어진 일정을 출력합니다.\n",
        "print(\"hello world\")\n",
        "print(\"09:10~11:00 컴퓨팅적 사고와 기초코딩\")\n",
        "print(\"11:10~12:00 아동건강교육\")\n",
        "print(\"12:00~01:00 점심식사\")\n",
        "print(\"01:00~18:00 시험공부\")"
      ],
      "metadata": {
        "colab": {
          "base_uri": "https://localhost:8080/"
        },
        "id": "ZMUFAiJ5cfmn",
        "outputId": "d99b1791-a7ec-43a7-ce74-98a1325ab085"
      },
      "execution_count": null,
      "outputs": [
        {
          "output_type": "stream",
          "name": "stdout",
          "text": [
            "hello world\n",
            "09:10~11:00 컴퓨팅적 사고와 기초코딩\n",
            "11:10~12:00 아동건강교육\n",
            "12:00~01:00 점심식사\n",
            "01:00~18:00 시험공부\n"
          ]
        }
      ]
    },
    {
      "cell_type": "markdown",
      "source": [
        "\"2023년 10월 19일 to do list\"와 시간별 일정이 작성되어 있습니다. 이 부분은 단순히 문자열을 출력하는 것으로 이해하시면 됩니다. \"hello world\"부터 \"01:00~18:00 시험공부\"까지 순서대로 출력됩니다."
      ],
      "metadata": {
        "id": "fHUC6vDwLTmY"
      }
    }
  ]
}