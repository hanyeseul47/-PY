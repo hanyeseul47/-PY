{
  "nbformat": 4,
  "nbformat_minor": 0,
  "metadata": {
    "colab": {
      "provenance": [],
      "authorship_tag": "ABX9TyNw8HDdX1FlSBIXVdEVXECW",
      "include_colab_link": true
    },
    "kernelspec": {
      "name": "python3",
      "display_name": "Python 3"
    },
    "language_info": {
      "name": "python"
    }
  },
  "cells": [
    {
      "cell_type": "markdown",
      "metadata": {
        "id": "view-in-github",
        "colab_type": "text"
      },
      "source": [
        "<a href=\"https://colab.research.google.com/github/hanyeseul47/-PY/blob/main/CTAB.ipynb\" target=\"_parent\"><img src=\"https://colab.research.google.com/assets/colab-badge.svg\" alt=\"Open In Colab\"/></a>"
      ]
    },
    {
      "cell_type": "markdown",
      "source": [
        "3. 사용자로부터 2개의 정수를 받아서 합계를 출력하시오.\n",
        "- 정수 X\n",
        "- 정수 Y"
      ],
      "metadata": {
        "id": "pcoT5GfeXIu0"
      }
    },
    {
      "cell_type": "code",
      "execution_count": null,
      "metadata": {
        "colab": {
          "base_uri": "https://localhost:8080/"
        },
        "id": "fpv30lR3Wzf4",
        "outputId": "69b96581-1877-47f3-f341-d0a7449daef1"
      },
      "outputs": [
        {
          "output_type": "stream",
          "name": "stdout",
          "text": [
            "정수 2개를 입력하시오.:\n",
            "x의 값을 입력하시오.:4\n",
            "y의 값을 입력하시오.:7\n",
            "11\n",
            "4 + 7의 값은 11이다.\n"
          ]
        }
      ],
      "source": [
        "print(\"정수 2개를 입력하시오.:\")  # 사용자에게 정수 2개를 입력받을 것을 안내하는 메시지를 출력합니다.\n",
        "\n",
        "x = int(input('x의 값을 입력하시오.:'))  # 사용자로부터 x의 값을 입력받아 x 변수에 저장합니다.\n",
        "y = int(input('y의 값을 입력하시오.:'))  # 사용자로부터 y의 값을 입력받아 y 변수에 저장합니다.\n",
        "\n",
        "sum = x + y  # 입력받은 두 정수(x와 y)를 더하여 sum 변수에 저장합니다.\n",
        "\n",
        "print(sum)  # 두 정수의 합을 출력합니다.\n",
        "print(f'{x} + {y}의 값은 {sum}이다.')  # 더한 값과 함께 수식을 출력합니다."
      ]
    },
    {
      "cell_type": "markdown",
      "source": [
        "주어진 코드에서는 사용자로부터 두 개의 정수를 입력받아 그 합을 계산하고 출력합니다. 먼저 사용자에게 정수 2개를 입력받을 것을 안내하는 메시지를 출력한 후, 순서대로 x와 y의 값을 입력받아 변수에 저장합니다. 그리고 두 정수를 더하여 sum 변수에 저장하고, 합을 출력합니다. 마지막으로 f-string을 사용하여 더한 값과 함께 수식을 출력합니다.\n",
        "\n",
        "따라서 위 코드를 실행하면 사용자로부터 입력받은 두 정수의 합이 계산되고, 합과 함께 수식이 출력됩니다."
      ],
      "metadata": {
        "id": "EbQHEhCqS0bP"
      }
    },
    {
      "cell_type": "markdown",
      "source": [
        "4. 부가세를 계산하시오.\n",
        "- 상품의 가격 (price)\n",
        "- 부기세 (vat)\n"
      ],
      "metadata": {
        "id": "RwNsdVLaY-Sr"
      }
    },
    {
      "cell_type": "code",
      "source": [
        "print(\"상품의 가격을 입력하시오.:\")  # 사용자에게 상품의 가격을 입력받을 것을 안내하는 메시지를 출력합니다.\n",
        "\n",
        "price = int(input(\"상품의 가격:\"))  # 사용자로부터 상품의 가격을 입력받아 price 변수에 저장합니다.\n",
        "\n",
        "vat = price * 0.1  # 입력받은 상품의 가격에 0.1(10%)을 곱하여 부가세를 계산합니다.\n",
        "\n",
        "print(vat)  # 부가세를 출력합니다.\n",
        "print(f'상품의 가격은 {price}이며, 부가세는 {vat}이다.')  # 상품의 가격과 부가세를 출력합니다."
      ],
      "metadata": {
        "colab": {
          "base_uri": "https://localhost:8080/"
        },
        "id": "h6TAWI1PZZdF",
        "outputId": "4d3c238d-3830-4093-976d-6554c37cc6ca"
      },
      "execution_count": null,
      "outputs": [
        {
          "output_type": "stream",
          "name": "stdout",
          "text": [
            "상품의 가격을 입력하시오.:\n",
            "상품의 가격.:3000\n",
            "300.0\n",
            "상품의 가격은 3000이며, 부가세는 300.0이다.\n"
          ]
        }
      ]
    },
    {
      "cell_type": "markdown",
      "source": [
        "주어진 코드에서는 사용자로부터 상품의 가격을 입력받아 입력받은 가격에 10%의 비율인 부가세를 계산합니다. 입력받은 가격에 0.1을 곱하여 부가세를 계산한 후, 계산된 부가세를 출력합니다. 또한, f-string을 사용하여 상품의 가격과 부가세를 함께 출력합니다.\n",
        "\n",
        "따라서 위 코드를 실행하면 사용자로부터 입력받은 상품의 가격에 대한 부가세가 계산되고, 부가세와 함께 상품의 가격이 출력됩니다."
      ],
      "metadata": {
        "id": "3mTwp2BrTCzu"
      }
    }
  ]
}