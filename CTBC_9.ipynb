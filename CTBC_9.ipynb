{
  "nbformat": 4,
  "nbformat_minor": 0,
  "metadata": {
    "colab": {
      "provenance": [],
      "authorship_tag": "ABX9TyN7cMiNuU+bx/V1FxzcNObk",
      "include_colab_link": true
    },
    "kernelspec": {
      "name": "python3",
      "display_name": "Python 3"
    },
    "language_info": {
      "name": "python"
    }
  },
  "cells": [
    {
      "cell_type": "markdown",
      "metadata": {
        "id": "view-in-github",
        "colab_type": "text"
      },
      "source": [
        "<a href=\"https://colab.research.google.com/github/hanyeseul47/-PY/blob/main/CTBC_9.ipynb\" target=\"_parent\"><img src=\"https://colab.research.google.com/assets/colab-badge.svg\" alt=\"Open In Colab\"/></a>"
      ]
    },
    {
      "cell_type": "markdown",
      "source": [
        "1. 두가지  이상의 선택, 다방향 선택구조 코딩\n",
        "- 배송료 처리 3가지로 코딩\n",
        "- 변수 : price\n",
        "- 조건 : 10만원 이상은 배송비0,2만원 이상은 3천원, 2만원 이하는 5천원"
      ],
      "metadata": {
        "id": "BMn1k9TurRff"
      }
    },
    {
      "cell_type": "code",
      "source": [
        "price = int(input(\"구입금액 입력: \"))                                      # 변수 price 사용자가 정수형 급액입력\n",
        "if price >= 100000:                                                        # price의 값이 10만원보다 크거나 같으면\n",
        "   shipping_cost = 0                                                       # 선택1. 배송료(shipping_cost)는 0원\n",
        "else:                                                                      # 그게 아니면\n",
        " if price >= 20000:                                                        # 선택2. price값이 2만원보다 크거나 같으면\n",
        "   shipping_cost = 3000                                                    # 배송료(shipping_cost)는 3000원\n",
        " else:                                                                     # 그것도 아니면\n",
        "  shipping_cost = 5000                                                     # 선택3. 배송료(shipping_cost)는 5000원\n",
        "print(f'배송료는 {shipping_cost}원 입니다.')                               # F-String문자 Format으로 최종 배송료출력"
      ],
      "metadata": {
        "colab": {
          "base_uri": "https://localhost:8080/"
        },
        "id": "CXp-AL0jsxIp",
        "outputId": "f739aa98-d055-4416-e758-17df55e70e30"
      },
      "execution_count": null,
      "outputs": [
        {
          "output_type": "stream",
          "name": "stdout",
          "text": [
            "구입금액 입력: 25000\n",
            "배송료는 3000원 입니다.\n"
          ]
        }
      ]
    },
    {
      "cell_type": "markdown",
      "source": [
        "위 코드는 사용자로부터 구입금액을 입력받아 배송료를 계산하는 코드입니다. price 변수에 사용자가 입력한 정수형 구입금액을 저장합니다. 이후 조건문을 사용하여 구입금액에 따라 배송료를 처리합니다. 구입금액이 10만원 이상인 경우 배송료는 0원, 2만원 이상인 경우 3000원, 2만원 미만인 경우 5000원으로 설정됩니다. 마지막으로, f-string을 사용하여 최종 배송료를 출력합니다."
      ],
      "metadata": {
        "id": "7iKyirhxMaX-"
      }
    },
    {
      "cell_type": "markdown",
      "source": [
        "2. 반복구조를 이용한 \"환영합니다.\"를 5번 출력하는 코드작성\n",
        "- 변수 : welcome\n",
        "- 출력내용 : 환엽합니다.를 세로로 5본,10번,30번"
      ],
      "metadata": {
        "id": "sxmDt6LoymDW"
      }
    },
    {
      "cell_type": "code",
      "source": [
        "print(\"환영합니다.\")  # \"환영합니다.\"라는 메시지를 출력합니다.\n",
        "print(\"환영합니다.\")  # \"환영합니다.\"라는 메시지를 출력합니다.\n",
        "print(\"환영합니다.\")  # \"환영합니다.\"라는 메시지를 출력합니다.\n",
        "print(\"환영합니다.\")  # \"환영합니다.\"라는 메시지를 출력합니다.\n",
        "print(\"환영합니다.\")  # \"환영합니다.\"라는 메시지를 출력합니다."
      ],
      "metadata": {
        "colab": {
          "base_uri": "https://localhost:8080/"
        },
        "id": "QlUvcFmPzFXO",
        "outputId": "601fe01c-5f76-4359-ecda-e3eb64d9ddc2"
      },
      "execution_count": null,
      "outputs": [
        {
          "output_type": "stream",
          "name": "stdout",
          "text": [
            "환영합니다.\n",
            "환영합니다.\n",
            "환영합니다.\n",
            "환영합니다.\n",
            "환영합니다.\n"
          ]
        }
      ]
    },
    {
      "cell_type": "markdown",
      "source": [
        "위 코드는 print() 함수를 사용하여 \"환영합니다.\"라는 메시지를 5번 출력하는 간단한 코드입니다. print() 함수는 괄호 안에 있는 값을 화면에 출력하는 역할을 합니다.\n",
        "\n",
        "해당 코드를 실행하면 \"환영합니다.\"라는 메시지가 5번 출력됩니다. 이 코드는 단순히 화면에 메시지를 출력하는 예시로, 프로그래밍의 기본적인 출력 방법을 보여주는 예시입니다."
      ],
      "metadata": {
        "id": "eVk0RiGeM_NP"
      }
    },
    {
      "cell_type": "code",
      "source": [
        "print(\"환영합니다.\\n\"* 5)"
      ],
      "metadata": {
        "colab": {
          "base_uri": "https://localhost:8080/"
        },
        "id": "KgmKzn95zVC_",
        "outputId": "b266a1e2-9b46-4486-df2a-1e4ff6787ee4"
      },
      "execution_count": null,
      "outputs": [
        {
          "output_type": "stream",
          "name": "stdout",
          "text": [
            "환영합니다.\n",
            "환영합니다.\n",
            "환영합니다.\n",
            "환영합니다.\n",
            "환영합니다.\n",
            "\n"
          ]
        }
      ]
    },
    {
      "cell_type": "markdown",
      "source": [
        "위 코드에서 print() 함수를 사용하여 \"환영합니다.\\n\"라는 문자열을 5번 반복하여 출력합니다.\n",
        "\n",
        "\"환영합니다.\"는 출력할 메시지인 문자열입니다.\n",
        "\"\\n\"은 줄바꿈 문자로, 문자열 내에서 사용하면 다음 줄로 이동하여 출력됩니다.\n",
        "\"* 5\"는 문자열을 5번 반복하여 출력하도록 지정하는 연산자입니다.\n",
        "따라서 위 코드를 실행하면 \"환영합니다.\"라는 메시지가 5번 반복되어 출력됩니다. 각 메시지는 새로운 줄에 출력됩니다.\n",
        "\n",
        "주의할 점은 print(\"환영합니다.\\n\" * 5)에서 \\n이 줄바꿈을 의미하는 이스케이프 시퀀스로 사용되기 때문에, \\와 n은 붙여서 \\n으로 표현되어야 합니다."
      ],
      "metadata": {
        "id": "dxGyxLalNUV2"
      }
    },
    {
      "cell_type": "code",
      "source": [
        "count = 0  # count 변수를 0으로 초기화합니다.\n",
        "\n",
        "while count <= 5:  # count가 5 이하인 동안 아래의 코드를 반복 실행합니다.\n",
        "   print(\"(\", count, \")\", \"환영합니다.\")  # count 값을 출력하고 \"환영합니다.\"라는 메시지를 출력합니다.\n",
        "   count = count + 1  # count 변수를 1씩 증가시킵니다."
      ],
      "metadata": {
        "colab": {
          "base_uri": "https://localhost:8080/"
        },
        "id": "Y_j42kNUzohx",
        "outputId": "8ac52824-231d-40c3-d57f-a383df358970"
      },
      "execution_count": null,
      "outputs": [
        {
          "output_type": "stream",
          "name": "stdout",
          "text": [
            "( 0 ) 환영합니다.\n",
            "( 1 ) 환영합니다.\n",
            "( 2 ) 환영합니다.\n",
            "( 3 ) 환영합니다.\n",
            "( 4 ) 환영합니다.\n",
            "( 5 ) 환영합니다.\n"
          ]
        }
      ]
    },
    {
      "cell_type": "markdown",
      "source": [
        "위 코드에서 count 변수는 반복문의 횟수를 제어하기 위한 변수입니다. while 문은 조건식(count <= 5)이 참인 동안 반복하여 아래의 코드를 실행합니다.\n",
        "\n",
        "반복문 내부에서는 print() 함수를 사용하여 \"(\", count, \")\", \"환영합니다.\"라는 메시지를 출력합니다. count 변수는 현재 반복 횟수를 나타내기 위해 사용되며, (와 )로 둘러싸여 출력됩니다.\n",
        "\n",
        "마지막으로 count = count + 1 문장은 count 변수를 1씩 증가시킵니다. 이는 반복문이 무한히 실행되지 않고, 조건식(count <= 5)을 만족하지 못하도록 하기 위한 역할을 합니다.\n",
        "\n",
        "따라서 위 코드를 실행하면 \"(0) 환영합니다.\"부터 \"(5) 환영합니다.\"까지 총 6번의 반복을 통해 메시지가 출력됩니다."
      ],
      "metadata": {
        "id": "40NS7lnSNhlt"
      }
    },
    {
      "cell_type": "markdown",
      "source": [
        "3. 0부터 9까지 출력하는 코드 작성\n",
        "- 변수:X"
      ],
      "metadata": {
        "id": "9Y-Gy_BR1gzO"
      }
    },
    {
      "cell_type": "code",
      "source": [
        "x = 0  # x 변수를 0으로 초기화합니다.\n",
        "\n",
        "while x < 10:  # x가 10보다 작은 동안 아래의 코드를 반복 실행합니다.\n",
        "  #print(x)  # 주석 처리된 코드는 x 값을 출력합니다.\n",
        "  print(x, end=' ')  # x 값을 공백으로 구분하여 출력합니다.\n",
        "  x = x + 1  # x 변수를 1씩 증가시킵니다."
      ],
      "metadata": {
        "colab": {
          "base_uri": "https://localhost:8080/"
        },
        "id": "K255gxxK1tzc",
        "outputId": "eb896245-0cc1-4537-c81a-54c5fa45ac67"
      },
      "execution_count": null,
      "outputs": [
        {
          "output_type": "stream",
          "name": "stdout",
          "text": [
            "0 1 2 3 4 5 6 7 8 9 "
          ]
        }
      ]
    },
    {
      "cell_type": "markdown",
      "source": [
        "위 코드에서 x 변수는 반복문의 횟수를 제어하기 위한 변수입니다. while 문은 조건식(x < 10)이 참인 동안 반복하여 아래의 코드를 실행합니다.\n",
        "\n",
        "반복문 내부에서는 print() 함수를 사용하여 x 값을 출력합니다. 주석 처리된 코드인 #print(x)는 x 값을 개행하여 출력합니다. 주석 처리된 코드를 사용하시려면 # 기호를 제거하면 됩니다.\n",
        "\n",
        "현재 실행되는 코드인 print(x, end=' ')는 x 값을 공백으로 구분하여 출력합니다. end=' '는 print() 함수의 인자로 전달되는 옵션 중 하나로, 출력 후 줄바꿈 대신 공백을 사용하도록 설정합니다.\n",
        "\n",
        "마지막으로 x = x + 1 문장은 x 변수를 1씩 증가시킵니다. 이는 반복문이 무한히 실행되지 않고, 조건식(x < 10)을 만족하지 못하도록 하기 위한 역할을 합니다.\n",
        "\n",
        "따라서 위 코드를 실행하면 0부터 9까지의 숫자가 공백으로 구분되어 출력됩니다."
      ],
      "metadata": {
        "id": "_nZ4hka1NsYY"
      }
    },
    {
      "cell_type": "markdown",
      "source": [
        "4. 1부터 10까지 합산하는 코드작성"
      ],
      "metadata": {
        "id": "Kai1gNqR3C1f"
      }
    },
    {
      "cell_type": "code",
      "source": [
        "x = 1  # x 변수를 1로 초기화합니다.\n",
        "total = 0  # total 변수를 0으로 초기화합니다.\n",
        "\n",
        "while x <= 10:  # x가 10보다 작거나 같은 동안 아래의 코드를 반복 실행합니다.\n",
        "   total += x  # total에 x 값을 더하여 누적합니다.\n",
        "   #total = total + 1  # 주석 처리된 코드는 total을 1씩 증가시킵니다.\n",
        "   #x = x + 1  # 주석 처리된 코드는 x를 1씩 증가시킵니다.\n",
        "   x += 1  # x 값을 1씩 증가시킵니다.\n",
        "   print(total)  # total 값을 출력합니다."
      ],
      "metadata": {
        "colab": {
          "base_uri": "https://localhost:8080/"
        },
        "id": "HrmNXMw73J5c",
        "outputId": "d4b05e03-78a1-4940-95ee-4c5928762739"
      },
      "execution_count": null,
      "outputs": [
        {
          "output_type": "stream",
          "name": "stdout",
          "text": [
            "1\n",
            "3\n",
            "6\n",
            "10\n",
            "15\n",
            "21\n",
            "28\n",
            "36\n",
            "45\n",
            "55\n"
          ]
        }
      ]
    },
    {
      "cell_type": "markdown",
      "source": [
        "위 코드에서 x 변수는 반복문의 횟수를 제어하기 위한 변수이고, total 변수는 누적된 값을 저장하기 위한 변수입니다. while 문은 조건식(x <= 10)이 참인 동안 반복하여 아래의 코드를 실행합니다.\n",
        "\n",
        "반복문 내부에서는 total += x 문장을 사용하여 total 변수에 x 값을 더하여 누적합니다. total = total + 1은 주석 처리되어 있으며, total을 1씩 증가시키는 코드입니다. 마찬가지로 x = x + 1 역시 주석 처리되어 있으며, x를 1씩 증가시키는 코드입니다.\n",
        "\n",
        "x += 1은 x 값을 1씩 증가시키는 코드입니다. 이는 x = x + 1과 동일한 역할을 합니다.\n",
        "\n",
        "마지막으로 print(total)은 total 값을 출력합니다. 이는 반복문 내에서 누적된 total 값을 각 반복마다 출력하는 역할을 합니다.\n",
        "\n",
        "따라서 위 코드를 실행하면 1부터 10까지의 숫자를 누적하여 출력합니다. 첫 번째 반복에서는 total이 1, 두 번째 반복에서는 total이 3(1+2), 세 번째 반복에서는 total이 6(1+2+3), ..., 마지막 반복에서는 total이 55(1+2+3+...+10)가 됩니다."
      ],
      "metadata": {
        "id": "bAAAITEdN_gW"
      }
    },
    {
      "cell_type": "markdown",
      "source": [
        "5. 3-6-9 게임(3의 배수 판단): 3의 배수를 3으로 나누면 나머지가 0이 되므로(i mod 3)의 값이 0이면 박수를 출력,아니면 숫자 출력하는 코드"
      ],
      "metadata": {
        "id": "IkZiFikB4LsU"
      }
    },
    {
      "cell_type": "code",
      "source": [
        "for num in range(1, 21):  # 1부터 20까지의 숫자를 반복합니다.\n",
        "  if num % 3 == 0:  # 숫자가 3의 배수인지 확인합니다.\n",
        "    print(\"박수\", end=' ')  # 3의 배수인 경우 \"박수\"를 출력합니다.\n",
        "  else:\n",
        "    print(num, end=' ')  # 3의 배수가 아닌 경우 숫자를 출력합니다."
      ],
      "metadata": {
        "colab": {
          "base_uri": "https://localhost:8080/"
        },
        "id": "RSUJXX8T4zDt",
        "outputId": "d9e1a60a-37ac-41ce-82b7-81d8fda42e91"
      },
      "execution_count": null,
      "outputs": [
        {
          "output_type": "stream",
          "name": "stdout",
          "text": [
            "1 2 박수 4 5 박수 7 8 박수 10 11 박수 13 14 박수 16 17 박수 19 20 "
          ]
        }
      ]
    },
    {
      "cell_type": "markdown",
      "source": [
        "위 코드에서 for 문은 range(1, 21)을 순회하면서 num 변수에 숫자를 할당하여 반복합니다. 이는 1부터 20까지의 숫자를 의미합니다.\n",
        "\n",
        "반복문 내부에서는 조건문 if를 사용하여 num이 3의 배수인지 확인합니다. num % 3 == 0은 num을 3으로 나누었을 때 나머지가 0인지를 검사하는 조건입니다. 나머지가 0이라면 num은 3의 배수입니다.\n",
        "\n",
        "만약 num이 3의 배수라면, print(\"박수\", end=' ') 문장이 실행되어 \"박수\"를 출력합니다. end=' '는 출력 후 줄바꿈 대신 공백을 사용하도록 설정합니다.\n",
        "\n",
        "만약 num이 3의 배수가 아니라면, print(num, end=' ') 문장이 실행되어 숫자를 출력합니다.\n",
        "\n",
        "따라서 위 코드를 실행하면 1부터 20까지의 숫자를 반복하면서, 3의 배수인 경우 \"박수\"를 출력하고 그 외의 경우에는 숫자를 출력합니다."
      ],
      "metadata": {
        "id": "LBXJIYVkOcqn"
      }
    },
    {
      "cell_type": "code",
      "source": [
        "num = 1  # num 변수를 1로 초기화합니다.\n",
        "\n",
        "while num <= 20:  # num이 20보다 작거나 같은 동안 아래의 코드를 반복 실행합니다.\n",
        "  if num % 3 == 0:  # 숫자가 3의 배수인지 확인합니다.\n",
        "    print(\"박수\", end=' ')  # 3의 배수인 경우 \"박수\"를 출력합니다.\n",
        "  else:\n",
        "    print(num, end=' ')  # 3의 배수가 아닌 경우 숫자를 출력합니다.\n",
        "  num += 1  # num 값을 1씩 증가시킵니다."
      ],
      "metadata": {
        "colab": {
          "base_uri": "https://localhost:8080/"
        },
        "id": "4GWyNxOP5dY0",
        "outputId": "60874314-9c63-491c-8078-07bca5c59b5b"
      },
      "execution_count": null,
      "outputs": [
        {
          "output_type": "stream",
          "name": "stdout",
          "text": [
            "1 2 박수 4 5 박수 7 8 박수 10 11 박수 13 14 박수 16 17 박수 19 20 "
          ]
        }
      ]
    },
    {
      "cell_type": "markdown",
      "source": [
        "위 코드에서 num 변수는 반복문의 횟수를 제어하기 위한 변수입니다. while 문은 조건식(num <= 20)이 참인 동안 반복하여 아래의 코드를 실행합니다.\n",
        "\n",
        "반복문 내부에서는 조건문 if를 사용하여 num이 3의 배수인지 확인합니다. num % 3 == 0은 num을 3으로 나누었을 때 나머지가 0인지를 검사하는 조건입니다. 나머지가 0이라면 num은 3의 배수입니다.\n",
        "\n",
        "만약 num이 3의 배수라면, print(\"박수\", end=' ') 문장이 실행되어 \"박수\"를 출력합니다. end=' '는 출력 후 줄바꿈 대신 공백을 사용하도록 설정합니다.\n",
        "\n",
        "만약 num이 3의 배수가 아니라면, print(num, end=' ') 문장이 실행되어 숫자를 출력합니다.\n",
        "\n",
        "마지막으로 num += 1 문장은 num 값을 1씩 증가시킵니다. 이는 반복문이 무한히 실행되지 않고, 조건식(num <= 20)을 만족하지 못하도록 하기 위한 역할을 합니다.\n",
        "\n",
        "따라서 위 코드를 실행하면 1부터 20까지의 숫자를 반복하면서, 3의 배수인 경우 \"박수\"를 출력하고 그 외의 경우에는 숫자를 출력합니다."
      ],
      "metadata": {
        "id": "HguklfwUOn-W"
      }
    },
    {
      "cell_type": "markdown",
      "source": [
        "6. 팩토리얼 계산하는 코드 작성\n",
        "- 1! = 1,-2!= 2(1),=2, 3!=3(2)(1)=6"
      ],
      "metadata": {
        "id": "CMKoO8X3bwf6"
      }
    },
    {
      "cell_type": "code",
      "source": [
        "i = 5  # i 변수를 5로 초기화합니다.\n",
        "factorial = 1  # factorial 변수를 1로 초기화합니다.\n",
        "\n",
        "while i >= 10:  # i가 10보다 크거나 같은 동안 아래의 코드를 반복 실행합니다.\n",
        "  factorial *= 1  # factorial에 1을 곱하여 factorial 값을 업데이트합니다.\n",
        "  i += 1  # i 값을 1씩 증가시킵니다.\n",
        "\n",
        "print(factorial)  # 최종적으로 계산된 factorial 값을 출력합니다."
      ],
      "metadata": {
        "colab": {
          "base_uri": "https://localhost:8080/"
        },
        "id": "XXmzIEhRcbTX",
        "outputId": "a98d68a4-fece-4e5a-9354-8c531aa3aeb8"
      },
      "execution_count": null,
      "outputs": [
        {
          "output_type": "stream",
          "name": "stdout",
          "text": [
            "1\n"
          ]
        }
      ]
    },
    {
      "cell_type": "markdown",
      "source": [
        "주어진 코드에서 반복문의 조건식인 i >= 10은 초기값으로 주어진 i가 10보다 크거나 같은지를 검사합니다. 하지만 초기값인 i가 5로 주어졌으므로 조건식이 거짓이 되어 반복문이 실행되지 않습니다. 따라서 반복문 내부의 코드는 실행되지 않고, factorial 변수의 초기값인 1이 그대로 출력됩니다.\n",
        "\n",
        "또한, factorial *= 1 문장은 factorial 변수에 1을 곱하여 값을 업데이트하는 것이지만, 1을 곱하더라도 값이 변하지 않습니다. 따라서 factorial 변수의 값은 항상 1로 유지됩니다.\n",
        "\n",
        "올바른 팩토리얼 계산을 위해서는 초기값 i를 1로 설정하고, 조건식을 i <= 5와 같이 팩토리얼을 계산할 범위로 설정해야 합니다. 또한, factorial *= i와 같이 i를 곱하여 팩토리얼 값을 업데이트해야 합니다.위 코드를 실행하면 1부터 5까지의 숫자를 곱하여 팩토리얼 값을 계산하고, 계산된 결과를 출력합니다. 따라서 출력 결과는 5!인 120이 됩니다."
      ],
      "metadata": {
        "id": "QQ4n0lHOO1WN"
      }
    },
    {
      "cell_type": "code",
      "source": [
        "num = int(input(\"팩토리얼을 계산할 숫자를 입력하시오.: \"))  # 사용자로부터 숫자를 입력받아 num 변수에 저장합니다.\n",
        "\n",
        "factorial = 1  # 초기값으로 1을 설정합니다.\n",
        "\n",
        "while num >= 1:  # num 값이 1보다 크거나 같을 때 아래의 코드를 반복 실행합니다.\n",
        "  factorial = factorial * num  # 현재 num 값을 factorial 값에 곱해줍니다.\n",
        "  num -= 1  # num 값을 1씩 감소시킵니다.\n",
        "\n",
        "print(f'계산된 팩토리얼 값은 {factorial} 입니다.')  # 최종적으로 계산된 팩토리얼 값을 출력합니다."
      ],
      "metadata": {
        "colab": {
          "base_uri": "https://localhost:8080/"
        },
        "id": "BuixwPChdBGJ",
        "outputId": "b77a242a-1948-44a1-d068-8e6382f2a1bb"
      },
      "execution_count": null,
      "outputs": [
        {
          "output_type": "stream",
          "name": "stdout",
          "text": [
            "팩토리얼을 계산할 숫자를 입력하시오.: 5\n",
            "계산된 팩토리얼 값은 120 입니다.\n"
          ]
        }
      ]
    },
    {
      "cell_type": "markdown",
      "source": [
        "주어진 코드는 사용자로부터 입력받은 숫자를 num 변수에 저장합니다. 초기값으로 factorial 변수를 1로 설정합니다.\n",
        "\n",
        "그 후, while 반복문을 사용하여 num 값이 1보다 크거나 같을 때까지 아래의 코드를 반복 실행합니다. 반복문 내부에서는 현재 num 값을 factorial 값에 곱해줍니다. 그리고 num 값을 1씩 감소시킵니다. 이렇게 반복문이 실행되면서 num 값은 1씩 감소하면서 팩토리얼 연산에 참여하게 됩니다.\n",
        "\n",
        "반복문이 종료되면 계산된 팩토리얼 값을 출력합니다.\n",
        "\n",
        "예를 들어, 사용자로부터 5를 입력받은 경우, 반복문은 num 값이 5, 4, 3, 2, 1 순서로 감소하면서 factorial 값에 곱해지게 됩니다. 최종적으로 factorial 값은 5!인 120이 됩니다.\n",
        "\n",
        "위 코드를 실행하면 입력받은 숫자의 팩토리얼 값을 계산하여 출력합니다."
      ],
      "metadata": {
        "id": "WUele2A-PL31"
      }
    },
    {
      "cell_type": "markdown",
      "source": [
        "7. 구구단 출력해주는 코드작성\n",
        "- 변수: dan\n",
        "- 반복문(1): for문 사용\n",
        "- 반복문(2): while문 사용"
      ],
      "metadata": {
        "id": "oI_c33uBfFrL"
      }
    },
    {
      "cell_type": "code",
      "source": [
        "dan = int(input(\"구구단에서 몇 단을 출력할까요: \"))  # 사용자로부터 몇 단을 출력할지 입력받아 dan 변수에 저장합니다.\n",
        "\n",
        "for i in range(1, 10):  # 1부터 9까지의 숫자를 반복하면서 아래의 코드를 실행합니다.\n",
        "    print(dan, \"x\", i, \"=\", dan * i)  # 구구단 계산식을 출력합니다."
      ],
      "metadata": {
        "colab": {
          "base_uri": "https://localhost:8080/"
        },
        "id": "atmUACSRfZkc",
        "outputId": "721b72d9-5ac1-456f-a606-a3e6e9afebae"
      },
      "execution_count": null,
      "outputs": [
        {
          "output_type": "stream",
          "name": "stdout",
          "text": [
            "구구단에서 몇단을 출력할까요: 4\n",
            "4 x 1 = 4\n",
            "4 x 2 = 8\n",
            "4 x 3 = 12\n",
            "4 x 4 = 16\n",
            "4 x 5 = 20\n",
            "4 x 6 = 24\n",
            "4 x 7 = 28\n",
            "4 x 8 = 32\n",
            "4 x 9 = 36\n"
          ]
        }
      ]
    },
    {
      "cell_type": "markdown",
      "source": [
        "주어진 코드에서는 for 반복문을 사용하여 range(1, 10) 범위의 숫자를 순회하면서 아래의 코드를 반복 실행합니다. range(1, 10)은 1부터 9까지의 숫자를 의미합니다.\n",
        "\n",
        "반복문 내부에서는 구구단 계산식을 출력합니다. print(dan, \"x\", i, \"=\", dan * i) 문장은 구구단의 계산식을 출력하는 역할을 합니다. dan은 사용자로부터 입력받은 숫자를 나타내고, i는 반복문을 통해 순회하는 숫자를 나타냅니다. dan * i는 곱셈 연산을 수행하여 구구단의 결과를 계산합니다.\n",
        "\n",
        "따라서 위 코드를 실행하면 사용자로부터 입력받은 숫자에 대한 구구단이 출력됩니다. 예를 들어, 사용자가 3을 입력한 경우, 3단(3x1, 3x2, ..., 3x9)이 출력됩니다."
      ],
      "metadata": {
        "id": "Pq02TyLEPX8m"
      }
    },
    {
      "cell_type": "code",
      "source": [
        "dan = int(input(\"구구단에서 몇 단을 출력할래?: \"))  # 사용자로부터 몇 단을 출력할지 입력받아 dan 변수에 저장합니다.\n",
        "i = 1  # 초기값으로 i를 1로 설정합니다.\n",
        "\n",
        "while i <= 9:  # i가 9 이하일 때까지 아래의 코드를 반복 실행합니다.\n",
        "    print(dan, \"x\", i, \"=\", dan * i)  # 구구단 계산식을 출력합니다.\n",
        "    i += 1  # i 값을 1씩 증가시킵니다."
      ],
      "metadata": {
        "colab": {
          "base_uri": "https://localhost:8080/"
        },
        "id": "4ms3o3-tgFsU",
        "outputId": "d0decac9-785d-4896-c63d-0d8f0192eaf9"
      },
      "execution_count": null,
      "outputs": [
        {
          "output_type": "stream",
          "name": "stdout",
          "text": [
            "구구단에서 몇단을 출력할래?: 4\n",
            "4 x 1 = 4\n",
            "4 x 2 = 8\n",
            "4 x 3 = 12\n",
            "4 x 4 = 16\n",
            "4 x 5 = 20\n",
            "4 x 6 = 24\n",
            "4 x 7 = 28\n",
            "4 x 8 = 32\n",
            "4 x 9 = 36\n"
          ]
        }
      ]
    },
    {
      "cell_type": "markdown",
      "source": [
        "주어진 코드에서는 while 반복문을 사용하여 i 값이 9 이하일 때까지 아래의 코드를 반복 실행합니다. i는 초기값으로 1로 설정되며, 반복문 내부에서는 구구단 계산식을 출력합니다.\n",
        "\n",
        "print(dan, \"x\", i, \"=\", dan * i) 문장은 구구단의 계산식을 출력하는 역할을 합니다. dan은 사용자로부터 입력받은 숫자를 나타내고, i는 반복문을 통해 순회하는 숫자를 나타냅니다. dan * i는 곱셈 연산을 수행하여 구구단의 결과를 계산합니다.\n",
        "\n",
        "반복문이 한 번 실행될 때마다 i 값을 1씩 증가시킵니다. 이를 통해 1부터 9까지의 숫자를 반복하여 구구단을 출력합니다.\n",
        "\n",
        "따라서 위 코드를 실행하면 사용자로부터 입력받은 숫자에 대한 구구단이 출력됩니다. 예를 들어, 사용자가 3을 입력한 경우, 3단(3x1, 3x2, ..., 3x9)이 출력됩니다."
      ],
      "metadata": {
        "id": "G7OankgsPkXO"
      }
    }
  ]
}