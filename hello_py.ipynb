{
  "nbformat": 4,
  "nbformat_minor": 0,
  "metadata": {
    "colab": {
      "provenance": [],
      "authorship_tag": "ABX9TyOayUaw9L7qBEbvHcSeIVq6",
      "include_colab_link": true
    },
    "kernelspec": {
      "name": "python3",
      "display_name": "Python 3"
    },
    "language_info": {
      "name": "python"
    }
  },
  "cells": [
    {
      "cell_type": "markdown",
      "metadata": {
        "id": "view-in-github",
        "colab_type": "text"
      },
      "source": [
        "<a href=\"https://colab.research.google.com/github/hanyeseul47/-PY/blob/main/hello_py.ipynb\" target=\"_parent\"><img src=\"https://colab.research.google.com/assets/colab-badge.svg\" alt=\"Open In Colab\"/></a>"
      ]
    },
    {
      "cell_type": "code",
      "source": [
        "Python 3.12.0 (tags/v3.12.0:0fb18b0, Oct 2 2023, 13:03:39) [MSC v.1935 64 bit (AMD64)] on win32\n",
        "print(\"Hello World\")  # \"Hello World\"를 출력합니다.\n",
        "Hello World  # \"Hello World\" 문자열을 출력한 결과입니다.\n",
        "\"Hello World\"  # 큰 따옴표로 감싼 \"Hello World\" 문자열입니다.\n",
        "'Hello World'  # 작은 따옴표로 감싼 'Hello World' 문자열입니다.\n",
        "4+4  # 4와 4를 더한 결과값입니다.\n",
        "8  # 4와 4를 더한 결과인 8입니다.\n",
        "Hello World  # 코드로 해석할 수 없는 부분이므로 구문 오류가 발생합니다.\n",
        "SyntaxError: incomplete input"
      ],
      "metadata": {
        "id": "hbdduv5KUQ7-"
      },
      "execution_count": null,
      "outputs": []
    },
    {
      "cell_type": "markdown",
      "source": [
        "위 줄은 파이썬 버전 및 운영체제 정보를 나타내는 메시지입니다. 현재 사용 중인 파이썬 버전은 3.12.0이며, 64비트 윈도우 운영체제에서 실행되고 있음을 알 수 있습니다. 위 줄은 \"Hello World\"를 출력하는 코드입니다. print() 함수를 사용하여 괄호 안에 있는 문자열을 출력합니다.위 줄은 파이썬 대화형 인터프리터에서 \"Hello World\"를 출력한 결과를 나타냅니다.위 줄은 큰 따옴표로 감싼 \"Hello World\" 문자열을 나타냅니다.위 줄은 작은 따옴표로 감싼 'Hello World' 문자열을 나타냅니다.위 줄은 4와 4를 더한 결과값인 8을 나타냅니다.위 줄은 4와 4를 더한 결과인 8을 나타냅니다.위 줄은 파이썬 코드로 해석할 수 없는 \"Hello World\"라는 부분이 있어 구문 오류가 발생한 것을 나타냅니다. 파이썬 코드는 유효한 구문을 가져야 하므로, 구문 오류가 발생했습니다."
      ],
      "metadata": {
        "id": "TSolVDnxUnt4"
      }
    }
  ]
}